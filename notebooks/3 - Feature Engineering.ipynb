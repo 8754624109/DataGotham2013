{
 "metadata": {
  "name": ""
 },
 "nbformat": 3,
 "nbformat_minor": 0,
 "worksheets": [
  {
   "cells": [
    {
     "cell_type": "code",
     "collapsed": false,
     "input": [
      "import pandas as pd\n",
      "import numpy as np\n",
      "import pylab as pl"
     ],
     "language": "python",
     "metadata": {},
     "outputs": [],
     "prompt_number": 1
    },
    {
     "cell_type": "code",
     "collapsed": false,
     "input": [
      "df = pd.read_csv(\"./data/credit-data-non-null.csv\")"
     ],
     "language": "python",
     "metadata": {},
     "outputs": [],
     "prompt_number": 2
    },
    {
     "cell_type": "code",
     "collapsed": false,
     "input": [
      "df.head()"
     ],
     "language": "python",
     "metadata": {},
     "outputs": [
      {
       "html": [
        "<div style=\"max-height:1000px;max-width:1500px;overflow:auto;\">\n",
        "<table border=\"1\" class=\"dataframe\">\n",
        "  <thead>\n",
        "    <tr style=\"text-align: right;\">\n",
        "      <th></th>\n",
        "      <th>serious_dlqin2yrs</th>\n",
        "      <th>revolving_utilization_of_unsecured_lines</th>\n",
        "      <th>age</th>\n",
        "      <th>number_of_time30-59_days_past_due_not_worse</th>\n",
        "      <th>debt_ratio</th>\n",
        "      <th>monthly_income</th>\n",
        "      <th>number_of_open_credit_lines_and_loans</th>\n",
        "      <th>number_of_times90_days_late</th>\n",
        "      <th>number_real_estate_loans_or_lines</th>\n",
        "      <th>number_of_time60-89_days_past_due_not_worse</th>\n",
        "      <th>number_of_dependents</th>\n",
        "    </tr>\n",
        "  </thead>\n",
        "  <tbody>\n",
        "    <tr>\n",
        "      <th>0</th>\n",
        "      <td> 1</td>\n",
        "      <td> 0.766127</td>\n",
        "      <td> 45</td>\n",
        "      <td> 2</td>\n",
        "      <td> 0.802982</td>\n",
        "      <td>  9120</td>\n",
        "      <td> 13</td>\n",
        "      <td> 0</td>\n",
        "      <td> 6</td>\n",
        "      <td> 0</td>\n",
        "      <td> 2</td>\n",
        "    </tr>\n",
        "    <tr>\n",
        "      <th>1</th>\n",
        "      <td> 0</td>\n",
        "      <td> 0.957151</td>\n",
        "      <td> 40</td>\n",
        "      <td> 0</td>\n",
        "      <td> 0.121876</td>\n",
        "      <td>  2600</td>\n",
        "      <td>  4</td>\n",
        "      <td> 0</td>\n",
        "      <td> 0</td>\n",
        "      <td> 0</td>\n",
        "      <td> 1</td>\n",
        "    </tr>\n",
        "    <tr>\n",
        "      <th>2</th>\n",
        "      <td> 0</td>\n",
        "      <td> 0.658180</td>\n",
        "      <td> 38</td>\n",
        "      <td> 1</td>\n",
        "      <td> 0.085113</td>\n",
        "      <td>  3042</td>\n",
        "      <td>  2</td>\n",
        "      <td> 1</td>\n",
        "      <td> 0</td>\n",
        "      <td> 0</td>\n",
        "      <td> 0</td>\n",
        "    </tr>\n",
        "    <tr>\n",
        "      <th>3</th>\n",
        "      <td> 0</td>\n",
        "      <td> 0.233810</td>\n",
        "      <td> 30</td>\n",
        "      <td> 0</td>\n",
        "      <td> 0.036050</td>\n",
        "      <td>  3300</td>\n",
        "      <td>  5</td>\n",
        "      <td> 0</td>\n",
        "      <td> 0</td>\n",
        "      <td> 0</td>\n",
        "      <td> 0</td>\n",
        "    </tr>\n",
        "    <tr>\n",
        "      <th>4</th>\n",
        "      <td> 0</td>\n",
        "      <td> 0.907239</td>\n",
        "      <td> 49</td>\n",
        "      <td> 1</td>\n",
        "      <td> 0.024926</td>\n",
        "      <td> 63588</td>\n",
        "      <td>  7</td>\n",
        "      <td> 0</td>\n",
        "      <td> 1</td>\n",
        "      <td> 0</td>\n",
        "      <td> 0</td>\n",
        "    </tr>\n",
        "  </tbody>\n",
        "</table>\n",
        "</div>"
       ],
       "metadata": {},
       "output_type": "pyout",
       "prompt_number": 3,
       "text": [
        "   serious_dlqin2yrs  revolving_utilization_of_unsecured_lines  age  \\\n",
        "0                  1                                  0.766127   45   \n",
        "1                  0                                  0.957151   40   \n",
        "2                  0                                  0.658180   38   \n",
        "3                  0                                  0.233810   30   \n",
        "4                  0                                  0.907239   49   \n",
        "\n",
        "   number_of_time30-59_days_past_due_not_worse  debt_ratio  monthly_income  \\\n",
        "0                                            2    0.802982            9120   \n",
        "1                                            0    0.121876            2600   \n",
        "2                                            1    0.085113            3042   \n",
        "3                                            0    0.036050            3300   \n",
        "4                                            1    0.024926           63588   \n",
        "\n",
        "   number_of_open_credit_lines_and_loans  number_of_times90_days_late  \\\n",
        "0                                     13                            0   \n",
        "1                                      4                            0   \n",
        "2                                      2                            1   \n",
        "3                                      5                            0   \n",
        "4                                      7                            0   \n",
        "\n",
        "   number_real_estate_loans_or_lines  \\\n",
        "0                                  6   \n",
        "1                                  0   \n",
        "2                                  0   \n",
        "3                                  0   \n",
        "4                                  1   \n",
        "\n",
        "   number_of_time60-89_days_past_due_not_worse  number_of_dependents  \n",
        "0                                            0                     2  \n",
        "1                                            0                     1  \n",
        "2                                            0                     0  \n",
        "3                                            0                     0  \n",
        "4                                            0                     0  "
       ]
      }
     ],
     "prompt_number": 3
    },
    {
     "cell_type": "markdown",
     "metadata": {},
     "source": [
      "##Finding Important Features\n",
      "We're going to let scikit-learn help us determine which variables are the best at predicting risk. To do this, we're going to use an algorithm called `RandomForest`. `RandomForest` randomly generates a \"forest\" of decision trees. As the trees are randomly generated, the algorithm takes turns leaving out each variable in fitting the model. This allows the `RandomForest` to calculate just how much worse a model does when each variable is left out."
     ]
    },
    {
     "cell_type": "code",
     "collapsed": false,
     "input": [
      "from sklearn.ensemble import RandomForestClassifier\n",
      "\n",
      "features = np.array(['revolving_utilization_of_unsecured_lines',\n",
      "                     'age', 'number_of_time30-59_days_past_due_not_worse',\n",
      "                     'debt_ratio', 'monthly_income','number_of_open_credit_lines_and_loans', \n",
      "                     'number_of_times90_days_late', 'number_real_estate_loans_or_lines',\n",
      "                     'number_of_time60-89_days_past_due_not_worse', 'number_of_dependents'])"
     ],
     "language": "python",
     "metadata": {},
     "outputs": [],
     "prompt_number": 4
    },
    {
     "cell_type": "code",
     "collapsed": false,
     "input": [
      "clf = RandomForestClassifier(compute_importances=True)\n",
      "clf.fit(df[features], df['serious_dlqin2yrs'])"
     ],
     "language": "python",
     "metadata": {},
     "outputs": [
      {
       "output_type": "stream",
       "stream": "stderr",
       "text": [
        "/Library/Frameworks/Python.framework/Versions/2.7/lib/python2.7/site-packages/sklearn/ensemble/forest.py:783: DeprecationWarning: Setting compute_importances is no longer required as version 0.14. Variable importances are now computed on the fly when accessing the feature_importances_ attribute. This parameter will be removed in 0.16.\n",
        "  DeprecationWarning)\n"
       ]
      },
      {
       "metadata": {},
       "output_type": "pyout",
       "prompt_number": 5,
       "text": [
        "RandomForestClassifier(bootstrap=True, compute_importances=None,\n",
        "            criterion='gini', max_depth=None, max_features='auto',\n",
        "            min_density=None, min_samples_leaf=1, min_samples_split=2,\n",
        "            n_estimators=10, n_jobs=1, oob_score=False, random_state=None,\n",
        "            verbose=0)"
       ]
      }
     ],
     "prompt_number": 5
    },
    {
     "cell_type": "code",
     "collapsed": false,
     "input": [
      "# from the calculated importances, order them from most to least important\n",
      "# and make a barplot so we can visualize what is/isn't important\n",
      "importances = clf.feature_importances_\n",
      "sorted_idx = np.argsort(importances)"
     ],
     "language": "python",
     "metadata": {},
     "outputs": [],
     "prompt_number": 7
    },
    {
     "cell_type": "code",
     "collapsed": false,
     "input": [
      "padding = np.arange(len(features)) + 0.5\n",
      "pl.barh(padding, importances[sorted_idx], align='center')\n",
      "pl.yticks(padding, features[sorted_idx])\n",
      "pl.xlabel(\"Relative Importance\")\n",
      "pl.title(\"Variable Importance\")\n",
      "pl.show()"
     ],
     "language": "python",
     "metadata": {},
     "outputs": [
      {
       "metadata": {},
       "output_type": "display_data",
       "png": "[encoded data removed]",
       "text": [
        "<matplotlib.figure.Figure at 0x109a0aad0>"
       ]
      }
     ],
     "prompt_number": 8
    },
    {
     "cell_type": "markdown",
     "metadata": {},
     "source": [
      "So you can see that the best variable is `revolving_utilization_of_unsecured_lines` while the worst is `number_real_estate_loans_or_lines`. There's also a dramatic drop off after `number_of_open_credit_lines_and_loans`. This is where you need to use your own discretion. How many variables should you include in your model?"
     ]
    },
    {
     "cell_type": "markdown",
     "metadata": {},
     "source": [
      "###Engineering Additional Features\n",
      "Feature selection/engineering will likely have the biggest impact in determining the success/failure of your model. Even if you're using the latest and greatest algorithm, if you put in non-important features you're going to get poor results. Remember, it's math, not magic.\n",
      "\n",
      "Feature engineering is a skill that will take time to get the hang of. Sometimes the best way is to just talk to people. Ask questions, brainstorm with others, etc. Oftentimes 2 features might not be helpful when used individually, but when combined they can be extremely powerful.\n",
      "\n"
     ]
    },
    {
     "cell_type": "code",
     "collapsed": false,
     "input": [
      "df['income_bins'] = pd.cut(df.monthly_income, bins=15)\n",
      "pd.value_counts(df['income_bins'])\n",
      "# not very helpful"
     ],
     "language": "python",
     "metadata": {},
     "outputs": [
      {
       "metadata": {},
       "output_type": "pyout",
       "prompt_number": 9,
       "text": [
        "(-3008.75, 200583.333]        149971\n",
        "(200583.333, 401166.667]          14\n",
        "(601750, 802333.333]               5\n",
        "(401166.667, 601750]               5\n",
        "(1404083.333, 1604666.667]         1\n",
        "(1604666.667, 1805250]             1\n",
        "(802333.333, 1002916.667]          1\n",
        "(1002916.667, 1203500]             1\n",
        "(2808166.667, 3008750]             1"
       ]
      }
     ],
     "prompt_number": 9
    },
    {
     "cell_type": "markdown",
     "metadata": {},
     "source": [
      "###Bucketing Continuous Values"
     ]
    },
    {
     "cell_type": "markdown",
     "metadata": {},
     "source": [
      "####Use the cap_value function you wrote previously to cap monthly_income at $15,000"
     ]
    },
    {
     "cell_type": "code",
     "collapsed": false,
     "input": [
      "def cap_values(x, cap):\n",
      "    if x > cap:\n",
      "        return cap\n",
      "    else:\n",
      "        return x\n",
      "    \n",
      "#df.monthly_income = df.monthly_income.apply(lambda x: cap_values(x, 15000))"
     ],
     "language": "python",
     "metadata": {},
     "outputs": []
    },
    {
     "cell_type": "code",
     "collapsed": false,
     "input": [],
     "language": "python",
     "metadata": {},
     "outputs": [],
     "prompt_number": 10
    },
    {
     "cell_type": "code",
     "collapsed": false,
     "input": [
      "df['income_bins'] = pd.cut(df.monthly_income, bins=15, labels=False)\n",
      "pd.value_counts(df.income_bins)"
     ],
     "language": "python",
     "metadata": {},
     "outputs": [
      {
       "metadata": {},
       "output_type": "pyout",
       "prompt_number": 11,
       "text": [
        "0     32227\n",
        "3     15659\n",
        "4     15611\n",
        "2     13630\n",
        "5     13409\n",
        "6     10888\n",
        "7      9175\n",
        "1      7646\n",
        "8      7183\n",
        "14     6774\n",
        "9      6034\n",
        "10     4614\n",
        "11     3064\n",
        "12     2480\n",
        "13     1606"
       ]
      }
     ],
     "prompt_number": 11
    },
    {
     "cell_type": "code",
     "collapsed": false,
     "input": [
      "df[[\"income_bins\", \"serious_dlqin2yrs\"]].groupby(\"income_bins\").mean()"
     ],
     "language": "python",
     "metadata": {},
     "outputs": [
      {
       "html": [
        "<div style=\"max-height:1000px;max-width:1500px;overflow:auto;\">\n",
        "<table border=\"1\" class=\"dataframe\">\n",
        "  <thead>\n",
        "    <tr style=\"text-align: right;\">\n",
        "      <th></th>\n",
        "      <th>serious_dlqin2yrs</th>\n",
        "    </tr>\n",
        "    <tr>\n",
        "      <th>income_bins</th>\n",
        "      <th></th>\n",
        "    </tr>\n",
        "  </thead>\n",
        "  <tbody>\n",
        "    <tr>\n",
        "      <th>0 </th>\n",
        "      <td> 0.056288</td>\n",
        "    </tr>\n",
        "    <tr>\n",
        "      <th>1 </th>\n",
        "      <td> 0.102668</td>\n",
        "    </tr>\n",
        "    <tr>\n",
        "      <th>2 </th>\n",
        "      <td> 0.094131</td>\n",
        "    </tr>\n",
        "    <tr>\n",
        "      <th>3 </th>\n",
        "      <td> 0.086979</td>\n",
        "    </tr>\n",
        "    <tr>\n",
        "      <th>4 </th>\n",
        "      <td> 0.076549</td>\n",
        "    </tr>\n",
        "    <tr>\n",
        "      <th>5 </th>\n",
        "      <td> 0.069655</td>\n",
        "    </tr>\n",
        "    <tr>\n",
        "      <th>6 </th>\n",
        "      <td> 0.061903</td>\n",
        "    </tr>\n",
        "    <tr>\n",
        "      <th>7 </th>\n",
        "      <td> 0.055804</td>\n",
        "    </tr>\n",
        "    <tr>\n",
        "      <th>8 </th>\n",
        "      <td> 0.050536</td>\n",
        "    </tr>\n",
        "    <tr>\n",
        "      <th>9 </th>\n",
        "      <td> 0.049884</td>\n",
        "    </tr>\n",
        "    <tr>\n",
        "      <th>10</th>\n",
        "      <td> 0.039445</td>\n",
        "    </tr>\n",
        "    <tr>\n",
        "      <th>11</th>\n",
        "      <td> 0.041775</td>\n",
        "    </tr>\n",
        "    <tr>\n",
        "      <th>12</th>\n",
        "      <td> 0.041532</td>\n",
        "    </tr>\n",
        "    <tr>\n",
        "      <th>13</th>\n",
        "      <td> 0.040473</td>\n",
        "    </tr>\n",
        "    <tr>\n",
        "      <th>14</th>\n",
        "      <td> 0.047978</td>\n",
        "    </tr>\n",
        "  </tbody>\n",
        "</table>\n",
        "</div>"
       ],
       "metadata": {},
       "output_type": "pyout",
       "prompt_number": 12,
       "text": [
        "             serious_dlqin2yrs\n",
        "income_bins                   \n",
        "0                     0.056288\n",
        "1                     0.102668\n",
        "2                     0.094131\n",
        "3                     0.086979\n",
        "4                     0.076549\n",
        "5                     0.069655\n",
        "6                     0.061903\n",
        "7                     0.055804\n",
        "8                     0.050536\n",
        "9                     0.049884\n",
        "10                    0.039445\n",
        "11                    0.041775\n",
        "12                    0.041532\n",
        "13                    0.040473\n",
        "14                    0.047978"
       ]
      }
     ],
     "prompt_number": 12
    },
    {
     "cell_type": "code",
     "collapsed": false,
     "input": [
      "cols = [\"income_bins\", \"serious_dlqin2yrs\"]\n",
      "df[cols].groupby(\"income_bins\").mean().plot()"
     ],
     "language": "python",
     "metadata": {},
     "outputs": [
      {
       "metadata": {},
       "output_type": "pyout",
       "prompt_number": 14,
       "text": [
        "<matplotlib.axes.AxesSubplot at 0x109a19990>"
       ]
      },
      {
       "metadata": {},
       "output_type": "display_data",
       "png": "[encoded data removed]",
       "text": [
        "<matplotlib.figure.Figure at 0x109a18510>"
       ]
      }
     ],
     "prompt_number": 14
    },
    {
     "cell_type": "code",
     "collapsed": false,
     "input": [
      "cols = ['age', 'serious_dlqin2yrs']\n",
      "age_means = df[cols].groupby(\"age\").mean()\n",
      "age_means.plot()"
     ],
     "language": "python",
     "metadata": {},
     "outputs": [
      {
       "metadata": {},
       "output_type": "pyout",
       "prompt_number": 16,
       "text": [
        "<matplotlib.axes.AxesSubplot at 0x1069b37d0>"
       ]
      },
      {
       "metadata": {},
       "output_type": "display_data",
       "png": "[encoded data removed]",
       "text": [
        "<matplotlib.figure.Figure at 0x1069b6390>"
       ]
      }
     ],
     "prompt_number": 16
    },
    {
     "cell_type": "markdown",
     "metadata": {},
     "source": [
      "####Bin `age` into 20 different groups. Then make a frequency table that shows the number of customers that were/were not delinquent for each bin.\n",
      "*HINT: You might want to have larger bins near the min/max values to account for outliers.*"
     ]
    },
    {
     "cell_type": "code",
     "collapsed": false,
     "input": [
      "#df[\"age_bucket\"] = pd.cut(df.age, range(-1, 110, 10))\n",
      "#buckets = [-1, 25] + range(25, 80, 5) + [80, 120]\n",
      "#df[\"age_bucket\"] = pd.cut(df.age, buckets) \n",
      "#pd.crosstab(df.age_bucket, df.serious_dlqin2yrs)"
     ],
     "language": "python",
     "metadata": {},
     "outputs": [],
     "prompt_number": 54
    },
    {
     "cell_type": "markdown",
     "metadata": {},
     "source": [
      "####Using the age bins, calculate the percent of customers that were delinquent for each bucket"
     ]
    },
    {
     "cell_type": "code",
     "collapsed": false,
     "input": [
      "#df[[\"age_bucket\", \"serious_dlqin2yrs\"]].groupby(\"age_bucket\").mean()"
     ],
     "language": "python",
     "metadata": {},
     "outputs": [],
     "prompt_number": 55
    },
    {
     "cell_type": "code",
     "collapsed": false,
     "input": [
      "df[[\"age_bucket\", \"serious_dlqin2yrs\"]].groupby(\"age_bucket\").mean().plot()"
     ],
     "language": "python",
     "metadata": {},
     "outputs": [
      {
       "ename": "KeyError",
       "evalue": "u'No column(s) named: [age_bucket]'",
       "output_type": "pyerr",
       "traceback": [
        "\u001b[0;31m---------------------------------------------------------------------------\u001b[0m\n\u001b[0;31mKeyError\u001b[0m                                  Traceback (most recent call last)",
        "\u001b[0;32m<ipython-input-56-da0cfabcc695>\u001b[0m in \u001b[0;36m<module>\u001b[0;34m()\u001b[0m\n\u001b[0;32m----> 1\u001b[0;31m \u001b[0mdf\u001b[0m\u001b[0;34m[\u001b[0m\u001b[0;34m[\u001b[0m\u001b[0;34m\"age_bucket\"\u001b[0m\u001b[0;34m,\u001b[0m \u001b[0;34m\"serious_dlqin2yrs\"\u001b[0m\u001b[0;34m]\u001b[0m\u001b[0;34m]\u001b[0m\u001b[0;34m.\u001b[0m\u001b[0mgroupby\u001b[0m\u001b[0;34m(\u001b[0m\u001b[0;34m\"age_bucket\"\u001b[0m\u001b[0;34m)\u001b[0m\u001b[0;34m.\u001b[0m\u001b[0mmean\u001b[0m\u001b[0;34m(\u001b[0m\u001b[0;34m)\u001b[0m\u001b[0;34m.\u001b[0m\u001b[0mplot\u001b[0m\u001b[0;34m(\u001b[0m\u001b[0;34m)\u001b[0m\u001b[0;34m\u001b[0m\u001b[0m\n\u001b[0m",
        "\u001b[0;32m/Library/Frameworks/Python.framework/Versions/2.7/lib/python2.7/site-packages/pandas/core/frame.pyc\u001b[0m in \u001b[0;36m__getitem__\u001b[0;34m(self, key)\u001b[0m\n\u001b[1;32m   1960\u001b[0m             \u001b[0;32mif\u001b[0m \u001b[0mcom\u001b[0m\u001b[0;34m.\u001b[0m\u001b[0m_is_bool_indexer\u001b[0m\u001b[0;34m(\u001b[0m\u001b[0mkey\u001b[0m\u001b[0;34m)\u001b[0m\u001b[0;34m:\u001b[0m\u001b[0;34m\u001b[0m\u001b[0m\n\u001b[1;32m   1961\u001b[0m                 \u001b[0mkey\u001b[0m \u001b[0;34m=\u001b[0m \u001b[0mnp\u001b[0m\u001b[0;34m.\u001b[0m\u001b[0masarray\u001b[0m\u001b[0;34m(\u001b[0m\u001b[0mkey\u001b[0m\u001b[0;34m,\u001b[0m \u001b[0mdtype\u001b[0m\u001b[0;34m=\u001b[0m\u001b[0mbool\u001b[0m\u001b[0;34m)\u001b[0m\u001b[0;34m\u001b[0m\u001b[0m\n\u001b[0;32m-> 1962\u001b[0;31m             \u001b[0;32mreturn\u001b[0m \u001b[0mself\u001b[0m\u001b[0;34m.\u001b[0m\u001b[0m_getitem_array\u001b[0m\u001b[0;34m(\u001b[0m\u001b[0mkey\u001b[0m\u001b[0;34m)\u001b[0m\u001b[0;34m\u001b[0m\u001b[0m\n\u001b[0m\u001b[1;32m   1963\u001b[0m         \u001b[0;32melif\u001b[0m \u001b[0misinstance\u001b[0m\u001b[0;34m(\u001b[0m\u001b[0mself\u001b[0m\u001b[0;34m.\u001b[0m\u001b[0mcolumns\u001b[0m\u001b[0;34m,\u001b[0m \u001b[0mMultiIndex\u001b[0m\u001b[0;34m)\u001b[0m\u001b[0;34m:\u001b[0m\u001b[0;34m\u001b[0m\u001b[0m\n\u001b[1;32m   1964\u001b[0m             \u001b[0;32mreturn\u001b[0m \u001b[0mself\u001b[0m\u001b[0;34m.\u001b[0m\u001b[0m_getitem_multilevel\u001b[0m\u001b[0;34m(\u001b[0m\u001b[0mkey\u001b[0m\u001b[0;34m)\u001b[0m\u001b[0;34m\u001b[0m\u001b[0m\n",
        "\u001b[0;32m/Library/Frameworks/Python.framework/Versions/2.7/lib/python2.7/site-packages/pandas/core/frame.pyc\u001b[0m in \u001b[0;36m_getitem_array\u001b[0;34m(self, key)\u001b[0m\n\u001b[1;32m   1985\u001b[0m                 \u001b[0;32mif\u001b[0m \u001b[0mmask\u001b[0m\u001b[0;34m.\u001b[0m\u001b[0many\u001b[0m\u001b[0;34m(\u001b[0m\u001b[0;34m)\u001b[0m\u001b[0;34m:\u001b[0m\u001b[0;34m\u001b[0m\u001b[0m\n\u001b[1;32m   1986\u001b[0m                     raise KeyError(\"No column(s) named: %s\" %\n\u001b[0;32m-> 1987\u001b[0;31m                                    com.pprint_thing(key[mask]))\n\u001b[0m\u001b[1;32m   1988\u001b[0m                 \u001b[0mresult\u001b[0m \u001b[0;34m=\u001b[0m \u001b[0mself\u001b[0m\u001b[0;34m.\u001b[0m\u001b[0mreindex\u001b[0m\u001b[0;34m(\u001b[0m\u001b[0mcolumns\u001b[0m\u001b[0;34m=\u001b[0m\u001b[0mkey\u001b[0m\u001b[0;34m)\u001b[0m\u001b[0;34m\u001b[0m\u001b[0m\n\u001b[1;32m   1989\u001b[0m                 \u001b[0;32mif\u001b[0m \u001b[0mresult\u001b[0m\u001b[0;34m.\u001b[0m\u001b[0mcolumns\u001b[0m\u001b[0;34m.\u001b[0m\u001b[0mname\u001b[0m \u001b[0;32mis\u001b[0m \u001b[0mNone\u001b[0m\u001b[0;34m:\u001b[0m\u001b[0;34m\u001b[0m\u001b[0m\n",
        "\u001b[0;31mKeyError\u001b[0m: u'No column(s) named: [age_bucket]'"
       ]
      }
     ],
     "prompt_number": 56
    },
    {
     "cell_type": "code",
     "collapsed": false,
     "input": [
      "labels, levels = pd.factorize(df.age_bucket)\n",
      "df.age_bucket = labels"
     ],
     "language": "python",
     "metadata": {},
     "outputs": [],
     "prompt_number": 205
    },
    {
     "cell_type": "markdown",
     "metadata": {},
     "source": [
      "####Write something that buckets debt_ratio into 4 (nearly) equally sized groups.\n",
      "*Hint: use the `quantile` method for Series*"
     ]
    },
    {
     "cell_type": "code",
     "collapsed": false,
     "input": [
      "\n",
      "#quantiles = []\n",
      "#for q in [0, .25, .5, .75, 1]:\n",
      "#    quantiles.append(df.debt_ratio.quantile(q))\n",
      "\n",
      "debt_ratio_binned = pd.cut(df.debt_ratio, bins=...)\n",
      "\n",
      "print pd.value_counts(debt_ratio_binned)[1]==37500"
     ],
     "language": "python",
     "metadata": {},
     "outputs": [
      {
       "output_type": "stream",
       "stream": "stdout",
       "text": [
        "True\n"
       ]
      }
     ],
     "prompt_number": 43
    },
    {
     "cell_type": "markdown",
     "metadata": {},
     "source": [
      "###Scaling Features\n",
      "Some algorithms will work better if your data is centered around 0. The `StandardScaler` module in `scikit-learn` makes it very easy to quickly scale columns in your data frame."
     ]
    },
    {
     "cell_type": "code",
     "collapsed": false,
     "input": [
      "from sklearn.preprocessing import StandardScaler\n",
      "\n",
      "df['monthly_income_scaled'] = StandardScaler().fit_transform(df.monthly_income)"
     ],
     "language": "python",
     "metadata": {},
     "outputs": [],
     "prompt_number": 45
    },
    {
     "cell_type": "code",
     "collapsed": false,
     "input": [
      "print df.monthly_income_scaled.describe()\n",
      "print\n",
      "print \"Mean at 0?\", round(df.monthly_income_scaled.mean(), 10)==0\n",
      "\n",
      "pl.hist(df.monthly_income_scaled)"
     ],
     "language": "python",
     "metadata": {},
     "outputs": [
      {
       "output_type": "stream",
       "stream": "stdout",
       "text": [
        "count    1.500000e+05\n",
        "mean     8.406621e-14\n",
        "std      1.000003e+00\n",
        "min     -1.222482e+00\n",
        "25%     -7.819155e-01\n",
        "50%     -1.364860e-01\n",
        "75%      5.973016e-01\n",
        "max      2.448904e+00\n",
        "\n",
        "Mean at 0? True\n"
       ]
      },
      {
       "metadata": {},
       "output_type": "pyout",
       "prompt_number": 53,
       "text": [
        "(array([34726, 17007, 24923, 19543, 16606, 12623,  7694,  5471,  3734,  7673]),\n",
        " array([-1.22248176, -0.85534323, -0.4882047 , -0.12106616,  0.24607237,\n",
        "        0.6132109 ,  0.98034943,  1.34748797,  1.7146265 ,  2.08176503,\n",
        "        2.44890356]),\n",
        " <a list of 10 Patch objects>)"
       ]
      },
      {
       "metadata": {},
       "output_type": "display_data",
       "png": "[encoded data removed]",
       "text": [
        "<matplotlib.figure.Figure at 0x10711b0d0>"
       ]
      }
     ],
     "prompt_number": 53
    },
    {
     "cell_type": "markdown",
     "metadata": {},
     "source": [
      "##Redo our feature importance"
     ]
    },
    {
     "cell_type": "code",
     "collapsed": false,
     "input": [
      "features = np.array(['revolving_utilization_of_unsecured_lines',\n",
      "                     'age', 'number_of_time30-59_days_past_due_not_worse',\n",
      "                     'debt_ratio', 'monthly_income','number_of_open_credit_lines_and_loans', \n",
      "                     'number_of_times90_days_late', 'number_real_estate_loans_or_lines',\n",
      "                     'number_of_time60-89_days_past_due_not_worse', 'number_of_dependents',\n",
      "                     'income_bins', 'age_bucket', 'monthly_income_scaled'])\n",
      "\n",
      "clf = RandomForestClassifier(compute_importances=True)\n",
      "clf.fit(df[features], df['serious_dlqin2yrs'])\n",
      "\n",
      "importances = clf.feature_importances_\n",
      "sorted_idx = np.argsort(importances)\n",
      "\n",
      "padding = np.arange(len(features)) + 0.5\n",
      "pl.barh(padding, importances[sorted_idx], align='center')\n",
      "pl.yticks(padding, features[sorted_idx])\n",
      "pl.xlabel(\"Relative Importance\")\n",
      "pl.title(\"Variable Importance\")\n",
      "pl.show()"
     ],
     "language": "python",
     "metadata": {},
     "outputs": [
      {
       "metadata": {},
       "output_type": "display_data",
       "png": "[encoded data removed]",
       "text": [
        "<matplotlib.figure.Figure at 0x11971fb10>"
       ]
      }
     ],
     "prompt_number": 220
    },
    {
     "cell_type": "code",
     "collapsed": false,
     "input": [
      "best_features = features[sorted_idx][::-1]\n",
      "best_features"
     ],
     "language": "python",
     "metadata": {},
     "outputs": [
      {
       "metadata": {},
       "output_type": "pyout",
       "prompt_number": 248,
       "text": [
        "array(['revolving_utilization_of_unsecured_lines', 'debt_ratio',\n",
        "       'monthly_income', 'monthly_income_scaled', 'age',\n",
        "       'number_of_times90_days_late',\n",
        "       'number_of_open_credit_lines_and_loans',\n",
        "       'number_of_time60-89_days_past_due_not_worse', 'age_bucket',\n",
        "       'number_of_dependents', 'number_real_estate_loans_or_lines',\n",
        "       'income_bins', 'number_of_time30-59_days_past_due_not_worse'], \n",
        "      dtype='|S43')"
       ]
      }
     ],
     "prompt_number": 248
    },
    {
     "cell_type": "markdown",
     "metadata": {},
     "source": [
      "##Test out your own features\n",
      "Partner with the person sitting next to you and see if you can come up with some new features that outperform the basic variables.\n",
      "\n",
      "- brainstorm new features\n",
      "- create them using pandas\n",
      "- test their effectiveness w/ scikit-learn\n",
      "\n",
      "Things you might try:\n",
      "\n",
      "- Try using some of the scikit-learn [preprecessing functions](http://scikit-learn.org/stable/modules/preprocessing.html#preprocessing)\n",
      "- Use `pd.get_dummies` for making numerical variables into categorical variables\n",
      "- Combine features together (total times late, log(monthly_income), age^2)"
     ]
    },
    {
     "cell_type": "code",
     "collapsed": false,
     "input": [],
     "language": "python",
     "metadata": {},
     "outputs": []
    },
    {
     "cell_type": "code",
     "collapsed": false,
     "input": [],
     "language": "python",
     "metadata": {},
     "outputs": []
    },
    {
     "cell_type": "code",
     "collapsed": false,
     "input": [],
     "language": "python",
     "metadata": {},
     "outputs": []
    },
    {
     "cell_type": "code",
     "collapsed": false,
     "input": [],
     "language": "python",
     "metadata": {},
     "outputs": []
    },
    {
     "cell_type": "code",
     "collapsed": false,
     "input": [],
     "language": "python",
     "metadata": {},
     "outputs": []
    },
    {
     "cell_type": "code",
     "collapsed": false,
     "input": [],
     "language": "python",
     "metadata": {},
     "outputs": []
    },
    {
     "cell_type": "code",
     "collapsed": false,
     "input": [
      "features = best_features[:5]\n",
      "df[features].describe()"
     ],
     "language": "python",
     "metadata": {},
     "outputs": [
      {
       "html": [
        "<div style=\"max-height:1000px;max-width:1500px;overflow:auto;\">\n",
        "<table border=\"1\" class=\"dataframe\">\n",
        "  <thead>\n",
        "    <tr style=\"text-align: right;\">\n",
        "      <th></th>\n",
        "      <th>revolving_utilization_of_unsecured_lines</th>\n",
        "      <th>debt_ratio</th>\n",
        "      <th>monthly_income</th>\n",
        "      <th>monthly_income_scaled</th>\n",
        "      <th>age</th>\n",
        "    </tr>\n",
        "  </thead>\n",
        "  <tbody>\n",
        "    <tr>\n",
        "      <th>count</th>\n",
        "      <td> 150000.000000</td>\n",
        "      <td> 150000.000000</td>\n",
        "      <td> 1.500000e+05</td>\n",
        "      <td> 1.500000e+05</td>\n",
        "      <td> 150000.000000</td>\n",
        "    </tr>\n",
        "    <tr>\n",
        "      <th>mean</th>\n",
        "      <td>      6.048438</td>\n",
        "      <td>    353.005076</td>\n",
        "      <td> 5.547716e-14</td>\n",
        "      <td> 5.547716e-14</td>\n",
        "      <td>     52.295207</td>\n",
        "    </tr>\n",
        "    <tr>\n",
        "      <th>std</th>\n",
        "      <td>    249.755371</td>\n",
        "      <td>   2037.818523</td>\n",
        "      <td> 1.000003e+00</td>\n",
        "      <td> 1.000003e+00</td>\n",
        "      <td>     14.771866</td>\n",
        "    </tr>\n",
        "    <tr>\n",
        "      <th>min</th>\n",
        "      <td>      0.000000</td>\n",
        "      <td>      0.000000</td>\n",
        "      <td>-1.222482e+00</td>\n",
        "      <td>-1.222482e+00</td>\n",
        "      <td>      0.000000</td>\n",
        "    </tr>\n",
        "    <tr>\n",
        "      <th>25%</th>\n",
        "      <td>      0.029867</td>\n",
        "      <td>      0.175074</td>\n",
        "      <td>-7.819155e-01</td>\n",
        "      <td>-7.819155e-01</td>\n",
        "      <td>     41.000000</td>\n",
        "    </tr>\n",
        "    <tr>\n",
        "      <th>50%</th>\n",
        "      <td>      0.154181</td>\n",
        "      <td>      0.366508</td>\n",
        "      <td>-1.364860e-01</td>\n",
        "      <td>-1.364860e-01</td>\n",
        "      <td>     52.000000</td>\n",
        "    </tr>\n",
        "    <tr>\n",
        "      <th>75%</th>\n",
        "      <td>      0.559046</td>\n",
        "      <td>      0.868254</td>\n",
        "      <td> 5.973016e-01</td>\n",
        "      <td> 5.973016e-01</td>\n",
        "      <td>     63.000000</td>\n",
        "    </tr>\n",
        "    <tr>\n",
        "      <th>max</th>\n",
        "      <td>  50708.000000</td>\n",
        "      <td> 329664.000000</td>\n",
        "      <td> 2.448904e+00</td>\n",
        "      <td> 2.448904e+00</td>\n",
        "      <td>    109.000000</td>\n",
        "    </tr>\n",
        "  </tbody>\n",
        "</table>\n",
        "</div>"
       ],
       "metadata": {},
       "output_type": "pyout",
       "prompt_number": 249,
       "text": [
        "       revolving_utilization_of_unsecured_lines     debt_ratio  monthly_income  \\\n",
        "count                             150000.000000  150000.000000    1.500000e+05   \n",
        "mean                                   6.048438     353.005076    5.547716e-14   \n",
        "std                                  249.755371    2037.818523    1.000003e+00   \n",
        "min                                    0.000000       0.000000   -1.222482e+00   \n",
        "25%                                    0.029867       0.175074   -7.819155e-01   \n",
        "50%                                    0.154181       0.366508   -1.364860e-01   \n",
        "75%                                    0.559046       0.868254    5.973016e-01   \n",
        "max                                50708.000000  329664.000000    2.448904e+00   \n",
        "\n",
        "       monthly_income_scaled            age  \n",
        "count           1.500000e+05  150000.000000  \n",
        "mean            5.547716e-14      52.295207  \n",
        "std             1.000003e+00      14.771866  \n",
        "min            -1.222482e+00       0.000000  \n",
        "25%            -7.819155e-01      41.000000  \n",
        "50%            -1.364860e-01      52.000000  \n",
        "75%             5.973016e-01      63.000000  \n",
        "max             2.448904e+00     109.000000  "
       ]
      }
     ],
     "prompt_number": 249
    },
    {
     "cell_type": "code",
     "collapsed": false,
     "input": [
      "def cap_outliers(x):\n",
      "    mask = (x >= x.quantile(.95))\n",
      "    x[mask] = x.median()\n",
      "    return x"
     ],
     "language": "python",
     "metadata": {},
     "outputs": [],
     "prompt_number": 250
    },
    {
     "cell_type": "code",
     "collapsed": false,
     "input": [
      "df.debt_ratio = cap_outliers(df.debt_ratio)\n",
      "df.monthly_income = cap_outliers(df.monthly_income)"
     ],
     "language": "python",
     "metadata": {},
     "outputs": [],
     "prompt_number": 251
    },
    {
     "cell_type": "code",
     "collapsed": false,
     "input": [
      "df[features].describe()"
     ],
     "language": "python",
     "metadata": {},
     "outputs": [
      {
       "html": [
        "<div style=\"max-height:1000px;max-width:1500px;overflow:auto;\">\n",
        "<table border=\"1\" class=\"dataframe\">\n",
        "  <thead>\n",
        "    <tr style=\"text-align: right;\">\n",
        "      <th></th>\n",
        "      <th>revolving_utilization_of_unsecured_lines</th>\n",
        "      <th>debt_ratio</th>\n",
        "      <th>monthly_income</th>\n",
        "      <th>monthly_income_scaled</th>\n",
        "      <th>age</th>\n",
        "    </tr>\n",
        "  </thead>\n",
        "  <tbody>\n",
        "    <tr>\n",
        "      <th>count</th>\n",
        "      <td> 150000.000000</td>\n",
        "      <td> 150000.000000</td>\n",
        "      <td> 150000.000000</td>\n",
        "      <td> 1.500000e+05</td>\n",
        "      <td> 150000.000000</td>\n",
        "    </tr>\n",
        "    <tr>\n",
        "      <th>mean</th>\n",
        "      <td>      6.048438</td>\n",
        "      <td>    132.187917</td>\n",
        "      <td>     -0.127024</td>\n",
        "      <td> 5.547716e-14</td>\n",
        "      <td>     52.295207</td>\n",
        "    </tr>\n",
        "    <tr>\n",
        "      <th>std</th>\n",
        "      <td>    249.755371</td>\n",
        "      <td>    431.584439</td>\n",
        "      <td>      0.833931</td>\n",
        "      <td> 1.000003e+00</td>\n",
        "      <td>     14.771866</td>\n",
        "    </tr>\n",
        "    <tr>\n",
        "      <th>min</th>\n",
        "      <td>      0.000000</td>\n",
        "      <td>      0.000000</td>\n",
        "      <td>     -1.222482</td>\n",
        "      <td>-1.222482e+00</td>\n",
        "      <td>      0.000000</td>\n",
        "    </tr>\n",
        "    <tr>\n",
        "      <th>25%</th>\n",
        "      <td>      0.029867</td>\n",
        "      <td>      0.175074</td>\n",
        "      <td>     -0.781916</td>\n",
        "      <td>-7.819155e-01</td>\n",
        "      <td>     41.000000</td>\n",
        "    </tr>\n",
        "    <tr>\n",
        "      <th>50%</th>\n",
        "      <td>      0.154181</td>\n",
        "      <td>      0.366506</td>\n",
        "      <td>     -0.136486</td>\n",
        "      <td>-1.364860e-01</td>\n",
        "      <td>     52.000000</td>\n",
        "    </tr>\n",
        "    <tr>\n",
        "      <th>75%</th>\n",
        "      <td>      0.559046</td>\n",
        "      <td>      0.649179</td>\n",
        "      <td>      0.409082</td>\n",
        "      <td> 5.973016e-01</td>\n",
        "      <td>     63.000000</td>\n",
        "    </tr>\n",
        "    <tr>\n",
        "      <th>max</th>\n",
        "      <td>  50708.000000</td>\n",
        "      <td>   2448.000000</td>\n",
        "      <td>      2.101835</td>\n",
        "      <td> 2.448904e+00</td>\n",
        "      <td>    109.000000</td>\n",
        "    </tr>\n",
        "  </tbody>\n",
        "</table>\n",
        "</div>"
       ],
       "metadata": {},
       "output_type": "pyout",
       "prompt_number": 252,
       "text": [
        "       revolving_utilization_of_unsecured_lines     debt_ratio  monthly_income  \\\n",
        "count                             150000.000000  150000.000000   150000.000000   \n",
        "mean                                   6.048438     132.187917       -0.127024   \n",
        "std                                  249.755371     431.584439        0.833931   \n",
        "min                                    0.000000       0.000000       -1.222482   \n",
        "25%                                    0.029867       0.175074       -0.781916   \n",
        "50%                                    0.154181       0.366506       -0.136486   \n",
        "75%                                    0.559046       0.649179        0.409082   \n",
        "max                                50708.000000    2448.000000        2.101835   \n",
        "\n",
        "       monthly_income_scaled            age  \n",
        "count           1.500000e+05  150000.000000  \n",
        "mean            5.547716e-14      52.295207  \n",
        "std             1.000003e+00      14.771866  \n",
        "min            -1.222482e+00       0.000000  \n",
        "25%            -7.819155e-01      41.000000  \n",
        "50%            -1.364860e-01      52.000000  \n",
        "75%             5.973016e-01      63.000000  \n",
        "max             2.448904e+00     109.000000  "
       ]
      }
     ],
     "prompt_number": 252
    },
    {
     "cell_type": "code",
     "collapsed": false,
     "input": [
      "from sklearn.decomposition import RandomizedPCA\n",
      "from sklearn.preprocessing import StandardScaler"
     ],
     "language": "python",
     "metadata": {},
     "outputs": [],
     "prompt_number": 253
    },
    {
     "cell_type": "code",
     "collapsed": false,
     "input": [
      "pca = RandomizedPCA(n_components=2)\n",
      "for f in features:\n",
      "    df[f] = StandardScaler().fit_transform(df[f].astype(np.float))"
     ],
     "language": "python",
     "metadata": {},
     "outputs": [],
     "prompt_number": 254
    },
    {
     "cell_type": "code",
     "collapsed": false,
     "input": [
      "X = pca.fit_transform(df[features])"
     ],
     "language": "python",
     "metadata": {},
     "outputs": [],
     "prompt_number": 255
    },
    {
     "cell_type": "code",
     "collapsed": false,
     "input": [
      "X"
     ],
     "language": "python",
     "metadata": {},
     "outputs": [
      {
       "metadata": {},
       "output_type": "pyout",
       "prompt_number": 256,
       "text": [
        "array([[ 1.64476218, -0.35298587],\n",
        "       [-0.57412757, -0.85206089],\n",
        "       [-0.4217929 , -0.96200735],\n",
        "       ..., \n",
        "       [-1.52065449,  1.79339764],\n",
        "       [-1.4689103 , -0.3112598 ],\n",
        "       [-1.47520656,  0.18290261]])"
       ]
      }
     ],
     "prompt_number": 256
    },
    {
     "cell_type": "code",
     "collapsed": false,
     "input": [
      "pl.scatter(X[::,0], X[::,1], c=df.serious_dlqin2yrs)\n",
      "#barf"
     ],
     "language": "python",
     "metadata": {},
     "outputs": [
      {
       "metadata": {},
       "output_type": "pyout",
       "prompt_number": 259,
       "text": [
        "<matplotlib.collections.PathCollection at 0x119f04210>"
       ]
      },
      {
       "metadata": {},
       "output_type": "display_data",
       "png": "[encoded data removed]",
       "text": [
        "<matplotlib.figure.Figure at 0x118c74290>"
       ]
      }
     ],
     "prompt_number": 259
    },
    {
     "cell_type": "code",
     "collapsed": false,
     "input": [
      "from sklearn.cluster import MiniBatchKMeans"
     ],
     "language": "python",
     "metadata": {},
     "outputs": [],
     "prompt_number": 99
    },
    {
     "cell_type": "code",
     "collapsed": false,
     "input": [
      "km = MiniBatchKMeans(n_clusters=20)"
     ],
     "language": "python",
     "metadata": {},
     "outputs": [],
     "prompt_number": 295
    },
    {
     "cell_type": "code",
     "collapsed": false,
     "input": [
      "km.fit(df[features])"
     ],
     "language": "python",
     "metadata": {},
     "outputs": [
      {
       "metadata": {},
       "output_type": "pyout",
       "prompt_number": 296,
       "text": [
        "MiniBatchKMeans(batch_size=100, compute_labels=True, init='k-means++',\n",
        "        init_size=None, k=None, max_iter=100, max_no_improvement=10,\n",
        "        n_clusters=20, n_init=3, random_state=None,\n",
        "        reassignment_ratio=0.01, tol=0.0, verbose=0)"
       ]
      }
     ],
     "prompt_number": 296
    },
    {
     "cell_type": "code",
     "collapsed": false,
     "input": [
      "clusters = pca.fit_transform(km.cluster_centers_)"
     ],
     "language": "python",
     "metadata": {},
     "outputs": [],
     "prompt_number": 297
    },
    {
     "cell_type": "code",
     "collapsed": false,
     "input": [
      "df['cluster'] = km.predict(df[features])\n",
      "pd.value_counts(df.cluster)"
     ],
     "language": "python",
     "metadata": {},
     "outputs": [
      {
       "metadata": {},
       "output_type": "pyout",
       "prompt_number": 298,
       "text": [
        "4     17865\n",
        "0     14241\n",
        "8     13997\n",
        "3     13852\n",
        "2     11809\n",
        "15    10462\n",
        "14     9819\n",
        "9      9363\n",
        "11     9080\n",
        "16     8534\n",
        "18     6294\n",
        "19     3974\n",
        "6      3933\n",
        "10     3516\n",
        "13     3090\n",
        "12     2944\n",
        "7      2917\n",
        "1      2301\n",
        "17     1947\n",
        "5        62"
       ]
      }
     ],
     "prompt_number": 298
    },
    {
     "cell_type": "code",
     "collapsed": false,
     "input": [
      "cluster_risk = df.groupby('cluster').apply(lambda x: x.serious_dlqin2yrs.mean())"
     ],
     "language": "python",
     "metadata": {},
     "outputs": [],
     "prompt_number": 299
    },
    {
     "cell_type": "code",
     "collapsed": false,
     "input": [
      "pl.scatter(clusters[::,0], clusters[::,1])"
     ],
     "language": "python",
     "metadata": {},
     "outputs": [
      {
       "metadata": {},
       "output_type": "pyout",
       "prompt_number": 300,
       "text": [
        "<matplotlib.collections.PathCollection at 0x119f9cc10>"
       ]
      },
      {
       "metadata": {},
       "output_type": "display_data",
       "png": "[encoded data removed]",
       "text": [
        "<matplotlib.figure.Figure at 0x11b24c850>"
       ]
      }
     ],
     "prompt_number": 300
    },
    {
     "cell_type": "code",
     "collapsed": false,
     "input": [
      "for cluster, color in zip(clusters, cluster_risk.values):\n",
      "    pl.scatter(cluster[0], cluster[1], s=color*1000)"
     ],
     "language": "python",
     "metadata": {},
     "outputs": [
      {
       "metadata": {},
       "output_type": "display_data",
       "png": "[encoded data removed]",
       "text": [
        "<matplotlib.figure.Figure at 0x119fab190>"
       ]
      }
     ],
     "prompt_number": 301
    },
    {
     "cell_type": "code",
     "collapsed": false,
     "input": [],
     "language": "python",
     "metadata": {},
     "outputs": [
      {
       "metadata": {},
       "output_type": "pyout",
       "prompt_number": 278,
       "text": [
        "Int64Index([0, 1, 2, 3, 4, 5, 6, 7, 8, 9], dtype=int64)"
       ]
      }
     ],
     "prompt_number": 278
    },
    {
     "cell_type": "code",
     "collapsed": false,
     "input": [],
     "language": "python",
     "metadata": {},
     "outputs": []
    }
   ],
   "metadata": {}
  }
 ]
}