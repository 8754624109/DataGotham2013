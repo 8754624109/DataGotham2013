{
 "metadata": {
  "name": ""
 },
 "nbformat": 3,
 "nbformat_minor": 0,
 "worksheets": [
  {
   "cells": [
    {
     "cell_type": "markdown",
     "metadata": {},
     "source": [
      "##Reading from a file"
     ]
    },
    {
     "cell_type": "code",
     "collapsed": false,
     "input": [
      "import pandas as pd"
     ],
     "language": "python",
     "metadata": {},
     "outputs": [],
     "prompt_number": 1
    },
    {
     "cell_type": "markdown",
     "metadata": {},
     "source": [
      "We're going to use the <code>read_csv</code> function in pandas"
     ]
    },
    {
     "cell_type": "code",
     "collapsed": false,
     "input": [
      "?pd.read_csv"
     ],
     "language": "python",
     "metadata": {},
     "outputs": [],
     "prompt_number": 3
    },
    {
     "cell_type": "code",
     "collapsed": false,
     "input": [
      "data = pd.read_csv(\"./data/nfl_spreads_1985-2010.csv\")"
     ],
     "language": "python",
     "metadata": {},
     "outputs": [],
     "prompt_number": 16
    },
    {
     "cell_type": "code",
     "collapsed": false,
     "input": [
      "data.head()"
     ],
     "language": "python",
     "metadata": {},
     "outputs": [
      {
       "html": [
        "<div style=\"max-height:1000px;max-width:1500px;overflow:auto;\">\n",
        "<table border=\"1\" class=\"dataframe\">\n",
        "  <thead>\n",
        "    <tr style=\"text-align: right;\">\n",
        "      <th></th>\n",
        "      <th>team</th>\n",
        "      <th>date</th>\n",
        "      <th>spread</th>\n",
        "      <th>team_score</th>\n",
        "      <th>opponent</th>\n",
        "      <th>opp_score</th>\n",
        "      <th>was_home</th>\n",
        "    </tr>\n",
        "  </thead>\n",
        "  <tbody>\n",
        "    <tr>\n",
        "      <th>0</th>\n",
        "      <td> Buffalo</td>\n",
        "      <td> 1985-12-22</td>\n",
        "      <td> 17.5</td>\n",
        "      <td>  0</td>\n",
        "      <td>      Miami</td>\n",
        "      <td> 28</td>\n",
        "      <td> True</td>\n",
        "    </tr>\n",
        "    <tr>\n",
        "      <th>1</th>\n",
        "      <td> Buffalo</td>\n",
        "      <td> 1985-12-15</td>\n",
        "      <td> 10.5</td>\n",
        "      <td> 24</td>\n",
        "      <td> Pittsburgh</td>\n",
        "      <td> 30</td>\n",
        "      <td> True</td>\n",
        "    </tr>\n",
        "    <tr>\n",
        "      <th>2</th>\n",
        "      <td> Buffalo</td>\n",
        "      <td> 1985-12-08</td>\n",
        "      <td>  9.0</td>\n",
        "      <td>  7</td>\n",
        "      <td>  N.Y. Jets</td>\n",
        "      <td> 27</td>\n",
        "      <td> True</td>\n",
        "    </tr>\n",
        "    <tr>\n",
        "      <th>3</th>\n",
        "      <td> Buffalo</td>\n",
        "      <td> 1985-12-01</td>\n",
        "      <td> 10.0</td>\n",
        "      <td>  7</td>\n",
        "      <td>  San Diego</td>\n",
        "      <td> 40</td>\n",
        "      <td> True</td>\n",
        "    </tr>\n",
        "    <tr>\n",
        "      <th>4</th>\n",
        "      <td> Buffalo</td>\n",
        "      <td> 1985-11-24</td>\n",
        "      <td>  8.5</td>\n",
        "      <td> 14</td>\n",
        "      <td>      Miami</td>\n",
        "      <td> 23</td>\n",
        "      <td> True</td>\n",
        "    </tr>\n",
        "  </tbody>\n",
        "</table>\n",
        "</div>"
       ],
       "metadata": {},
       "output_type": "pyout",
       "prompt_number": 17,
       "text": [
        "      team        date  spread  team_score    opponent  opp_score was_home\n",
        "0  Buffalo  1985-12-22    17.5           0       Miami         28     True\n",
        "1  Buffalo  1985-12-15    10.5          24  Pittsburgh         30     True\n",
        "2  Buffalo  1985-12-08     9.0           7   N.Y. Jets         27     True\n",
        "3  Buffalo  1985-12-01    10.0           7   San Diego         40     True\n",
        "4  Buffalo  1985-11-24     8.5          14       Miami         23     True"
       ]
      }
     ],
     "prompt_number": 17
    },
    {
     "cell_type": "markdown",
     "metadata": {},
     "source": [
      "##Reading from a database"
     ]
    },
    {
     "cell_type": "code",
     "collapsed": false,
     "input": [
      "from pandas.io.sql import read_frame\n",
      "import sqlite3 as sqlite"
     ],
     "language": "python",
     "metadata": {},
     "outputs": [],
     "prompt_number": 19
    },
    {
     "cell_type": "code",
     "collapsed": false,
     "input": [
      "data = read_frame(\"select * from table limit 10\", con)"
     ],
     "language": "python",
     "metadata": {},
     "outputs": []
    },
    {
     "cell_type": "markdown",
     "metadata": {},
     "source": [
      "##What is data?\n",
      "Our data is represented by dataframes. You can think of data frames as a giant spreadsheet which you can program. It's a collection of series (or columns) with a common set of commands that make managing data in Python super easy."
     ]
    },
    {
     "cell_type": "code",
     "collapsed": false,
     "input": [
      "type(data)"
     ],
     "language": "python",
     "metadata": {},
     "outputs": [
      {
       "metadata": {},
       "output_type": "pyout",
       "prompt_number": 21,
       "text": [
        "pandas.core.frame.DataFrame"
       ]
      }
     ],
     "prompt_number": 21
    },
    {
     "cell_type": "code",
     "collapsed": false,
     "input": [
      "type(data.team), type(data.spread)"
     ],
     "language": "python",
     "metadata": {},
     "outputs": [
      {
       "metadata": {},
       "output_type": "pyout",
       "prompt_number": 26,
       "text": [
        "(pandas.core.series.Series, pandas.core.series.Series)"
       ]
      }
     ],
     "prompt_number": 26
    },
    {
     "cell_type": "markdown",
     "metadata": {},
     "source": [
      "##Basic Commands\n",
      "Many of these commands will be familiar for those of you coming from a UNIX/Linux background. If not, don't sweat it, these commands are super easy, but extremely helpful for \"taking a look around\" at your data."
     ]
    },
    {
     "cell_type": "markdown",
     "metadata": {},
     "source": [
      "###head()"
     ]
    },
    {
     "cell_type": "code",
     "collapsed": false,
     "input": [
      "data.head()"
     ],
     "language": "python",
     "metadata": {},
     "outputs": [
      {
       "html": [
        "<div style=\"max-height:1000px;max-width:1500px;overflow:auto;\">\n",
        "<table border=\"1\" class=\"dataframe\">\n",
        "  <thead>\n",
        "    <tr style=\"text-align: right;\">\n",
        "      <th></th>\n",
        "      <th>team</th>\n",
        "      <th>date</th>\n",
        "      <th>spread</th>\n",
        "      <th>team_score</th>\n",
        "      <th>opponent</th>\n",
        "      <th>opp_score</th>\n",
        "      <th>was_home</th>\n",
        "    </tr>\n",
        "  </thead>\n",
        "  <tbody>\n",
        "    <tr>\n",
        "      <th>0</th>\n",
        "      <td> Buffalo</td>\n",
        "      <td> 1985-12-22</td>\n",
        "      <td> 17.5</td>\n",
        "      <td>  0</td>\n",
        "      <td>      Miami</td>\n",
        "      <td> 28</td>\n",
        "      <td> True</td>\n",
        "    </tr>\n",
        "    <tr>\n",
        "      <th>1</th>\n",
        "      <td> Buffalo</td>\n",
        "      <td> 1985-12-15</td>\n",
        "      <td> 10.5</td>\n",
        "      <td> 24</td>\n",
        "      <td> Pittsburgh</td>\n",
        "      <td> 30</td>\n",
        "      <td> True</td>\n",
        "    </tr>\n",
        "    <tr>\n",
        "      <th>2</th>\n",
        "      <td> Buffalo</td>\n",
        "      <td> 1985-12-08</td>\n",
        "      <td>  9.0</td>\n",
        "      <td>  7</td>\n",
        "      <td>  N.Y. Jets</td>\n",
        "      <td> 27</td>\n",
        "      <td> True</td>\n",
        "    </tr>\n",
        "    <tr>\n",
        "      <th>3</th>\n",
        "      <td> Buffalo</td>\n",
        "      <td> 1985-12-01</td>\n",
        "      <td> 10.0</td>\n",
        "      <td>  7</td>\n",
        "      <td>  San Diego</td>\n",
        "      <td> 40</td>\n",
        "      <td> True</td>\n",
        "    </tr>\n",
        "    <tr>\n",
        "      <th>4</th>\n",
        "      <td> Buffalo</td>\n",
        "      <td> 1985-11-24</td>\n",
        "      <td>  8.5</td>\n",
        "      <td> 14</td>\n",
        "      <td>      Miami</td>\n",
        "      <td> 23</td>\n",
        "      <td> True</td>\n",
        "    </tr>\n",
        "  </tbody>\n",
        "</table>\n",
        "</div>"
       ],
       "metadata": {},
       "output_type": "pyout",
       "prompt_number": 28,
       "text": [
        "      team        date  spread  team_score    opponent  opp_score was_home\n",
        "0  Buffalo  1985-12-22    17.5           0       Miami         28     True\n",
        "1  Buffalo  1985-12-15    10.5          24  Pittsburgh         30     True\n",
        "2  Buffalo  1985-12-08     9.0           7   N.Y. Jets         27     True\n",
        "3  Buffalo  1985-12-01    10.0           7   San Diego         40     True\n",
        "4  Buffalo  1985-11-24     8.5          14       Miami         23     True"
       ]
      }
     ],
     "prompt_number": 28
    },
    {
     "cell_type": "code",
     "collapsed": false,
     "input": [
      "data.opponent.head()"
     ],
     "language": "python",
     "metadata": {},
     "outputs": [
      {
       "metadata": {},
       "output_type": "pyout",
       "prompt_number": 36,
       "text": [
        "0         Miami\n",
        "1    Pittsburgh\n",
        "2     N.Y. Jets\n",
        "3     San Diego\n",
        "4         Miami\n",
        "Name: opponent"
       ]
      }
     ],
     "prompt_number": 36
    },
    {
     "cell_type": "markdown",
     "metadata": {},
     "source": [
      "###tail()"
     ]
    },
    {
     "cell_type": "code",
     "collapsed": false,
     "input": [
      "data.tail()"
     ],
     "language": "python",
     "metadata": {},
     "outputs": [
      {
       "html": [
        "<div style=\"max-height:1000px;max-width:1500px;overflow:auto;\">\n",
        "<table border=\"1\" class=\"dataframe\">\n",
        "  <thead>\n",
        "    <tr style=\"text-align: right;\">\n",
        "      <th></th>\n",
        "      <th>team</th>\n",
        "      <th>date</th>\n",
        "      <th>spread</th>\n",
        "      <th>team_score</th>\n",
        "      <th>opponent</th>\n",
        "      <th>opp_score</th>\n",
        "      <th>was_home</th>\n",
        "    </tr>\n",
        "  </thead>\n",
        "  <tbody>\n",
        "    <tr>\n",
        "      <th>14778</th>\n",
        "      <td> St. Louis</td>\n",
        "      <td> 2010-09-12</td>\n",
        "      <td> 3.0</td>\n",
        "      <td> 13</td>\n",
        "      <td>     Arizona</td>\n",
        "      <td> 17</td>\n",
        "      <td> True</td>\n",
        "    </tr>\n",
        "    <tr>\n",
        "      <th>14779</th>\n",
        "      <td> St. Louis</td>\n",
        "      <td> 2010-09-02</td>\n",
        "      <td>-3.0</td>\n",
        "      <td> 27</td>\n",
        "      <td>   Baltimore</td>\n",
        "      <td> 21</td>\n",
        "      <td> True</td>\n",
        "    </tr>\n",
        "    <tr>\n",
        "      <th>14780</th>\n",
        "      <td> St. Louis</td>\n",
        "      <td> 2010-08-26</td>\n",
        "      <td> 8.0</td>\n",
        "      <td> 36</td>\n",
        "      <td> New England</td>\n",
        "      <td> 35</td>\n",
        "      <td> True</td>\n",
        "    </tr>\n",
        "    <tr>\n",
        "      <th>14781</th>\n",
        "      <td> St. Louis</td>\n",
        "      <td> 2010-08-21</td>\n",
        "      <td> 4.0</td>\n",
        "      <td> 19</td>\n",
        "      <td>   Cleveland</td>\n",
        "      <td> 17</td>\n",
        "      <td> True</td>\n",
        "    </tr>\n",
        "    <tr>\n",
        "      <th>14782</th>\n",
        "      <td> St. Louis</td>\n",
        "      <td> 2010-08-14</td>\n",
        "      <td>-2.5</td>\n",
        "      <td>  7</td>\n",
        "      <td>   Minnesota</td>\n",
        "      <td> 28</td>\n",
        "      <td> True</td>\n",
        "    </tr>\n",
        "  </tbody>\n",
        "</table>\n",
        "</div>"
       ],
       "metadata": {},
       "output_type": "pyout",
       "prompt_number": 32,
       "text": [
        "            team        date  spread  team_score     opponent  opp_score was_home\n",
        "14778  St. Louis  2010-09-12     3.0          13      Arizona         17     True\n",
        "14779  St. Louis  2010-09-02    -3.0          27    Baltimore         21     True\n",
        "14780  St. Louis  2010-08-26     8.0          36  New England         35     True\n",
        "14781  St. Louis  2010-08-21     4.0          19    Cleveland         17     True\n",
        "14782  St. Louis  2010-08-14    -2.5           7    Minnesota         28     True"
       ]
      }
     ],
     "prompt_number": 32
    },
    {
     "cell_type": "code",
     "collapsed": false,
     "input": [
      "data.team.tail()"
     ],
     "language": "python",
     "metadata": {},
     "outputs": [
      {
       "metadata": {},
       "output_type": "pyout",
       "prompt_number": 34,
       "text": [
        "14778    St. Louis\n",
        "14779    St. Louis\n",
        "14780    St. Louis\n",
        "14781    St. Louis\n",
        "14782    St. Louis\n",
        "Name: team"
       ]
      }
     ],
     "prompt_number": 34
    },
    {
     "cell_type": "markdown",
     "metadata": {},
     "source": [
      "###describe()"
     ]
    },
    {
     "cell_type": "code",
     "collapsed": false,
     "input": [
      "data.describe()"
     ],
     "language": "python",
     "metadata": {},
     "outputs": [
      {
       "html": [
        "<div style=\"max-height:1000px;max-width:1500px;overflow:auto;\">\n",
        "<table border=\"1\" class=\"dataframe\">\n",
        "  <thead>\n",
        "    <tr style=\"text-align: right;\">\n",
        "      <th></th>\n",
        "      <th>spread</th>\n",
        "      <th>team_score</th>\n",
        "      <th>opp_score</th>\n",
        "    </tr>\n",
        "  </thead>\n",
        "  <tbody>\n",
        "    <tr>\n",
        "      <th>count</th>\n",
        "      <td> 14783.000000</td>\n",
        "      <td> 14783.000000</td>\n",
        "      <td> 14783.000000</td>\n",
        "    </tr>\n",
        "    <tr>\n",
        "      <th>mean</th>\n",
        "      <td>     0.000271</td>\n",
        "      <td>    20.563417</td>\n",
        "      <td>    20.563620</td>\n",
        "    </tr>\n",
        "    <tr>\n",
        "      <th>std</th>\n",
        "      <td>     6.358189</td>\n",
        "      <td>    10.180765</td>\n",
        "      <td>    10.180265</td>\n",
        "    </tr>\n",
        "    <tr>\n",
        "      <th>min</th>\n",
        "      <td>   -24.000000</td>\n",
        "      <td>     0.000000</td>\n",
        "      <td>     0.000000</td>\n",
        "    </tr>\n",
        "    <tr>\n",
        "      <th>25%</th>\n",
        "      <td>    -4.500000</td>\n",
        "      <td>    13.000000</td>\n",
        "      <td>    13.000000</td>\n",
        "    </tr>\n",
        "    <tr>\n",
        "      <th>50%</th>\n",
        "      <td>     1.000000</td>\n",
        "      <td>    20.000000</td>\n",
        "      <td>    20.000000</td>\n",
        "    </tr>\n",
        "    <tr>\n",
        "      <th>75%</th>\n",
        "      <td>     4.500000</td>\n",
        "      <td>    27.000000</td>\n",
        "      <td>    27.000000</td>\n",
        "    </tr>\n",
        "    <tr>\n",
        "      <th>max</th>\n",
        "      <td>    24.000000</td>\n",
        "      <td>    62.000000</td>\n",
        "      <td>    62.000000</td>\n",
        "    </tr>\n",
        "  </tbody>\n",
        "</table>\n",
        "</div>"
       ],
       "metadata": {},
       "output_type": "pyout",
       "prompt_number": 33,
       "text": [
        "             spread    team_score     opp_score\n",
        "count  14783.000000  14783.000000  14783.000000\n",
        "mean       0.000271     20.563417     20.563620\n",
        "std        6.358189     10.180765     10.180265\n",
        "min      -24.000000      0.000000      0.000000\n",
        "25%       -4.500000     13.000000     13.000000\n",
        "50%        1.000000     20.000000     20.000000\n",
        "75%        4.500000     27.000000     27.000000\n",
        "max       24.000000     62.000000     62.000000"
       ]
      }
     ],
     "prompt_number": 33
    },
    {
     "cell_type": "code",
     "collapsed": false,
     "input": [
      "data.spread.describe()"
     ],
     "language": "python",
     "metadata": {},
     "outputs": [
      {
       "metadata": {},
       "output_type": "pyout",
       "prompt_number": 31,
       "text": [
        "count    14783.000000\n",
        "mean         0.000271\n",
        "std          6.358189\n",
        "min        -24.000000\n",
        "25%         -4.500000\n",
        "50%          1.000000\n",
        "75%          4.500000\n",
        "max         24.000000"
       ]
      }
     ],
     "prompt_number": 31
    },
    {
     "cell_type": "markdown",
     "metadata": {},
     "source": [
      "###unqiue()"
     ]
    },
    {
     "cell_type": "code",
     "collapsed": false,
     "input": [
      "data.team.unique()"
     ],
     "language": "python",
     "metadata": {},
     "outputs": [
      {
       "metadata": {},
       "output_type": "pyout",
       "prompt_number": 37,
       "text": [
        "array([Buffalo, Miami, New England, N.Y. Jets, Baltimore, Cincinnati,\n",
        "       Cleveland, Pittsburgh, Houston, Indianapolis, Jacksonville,\n",
        "       Tennessee, Denver, Kansas City, Oakland, San Diego, Dallas,\n",
        "       N.Y. Giants, Philadelphia, Washington, Chicago, Detroit, Green Bay,\n",
        "       Minnesota, Atlanta, Carolina, New Orleans, Tampa Bay, Arizona,\n",
        "       San Francisco, Seattle, St. Louis], dtype=object)"
       ]
      }
     ],
     "prompt_number": 37
    },
    {
     "cell_type": "markdown",
     "metadata": {},
     "source": [
      "###value_counts(something_to_count)"
     ]
    },
    {
     "cell_type": "code",
     "collapsed": false,
     "input": [
      "pd.value_counts(data.team)"
     ],
     "language": "python",
     "metadata": {},
     "outputs": [
      {
       "metadata": {},
       "output_type": "pyout",
       "prompt_number": 41,
       "text": [
        "Pittsburgh       507\n",
        "San Francisco    502\n",
        "New England      501\n",
        "Dallas           499\n",
        "Green Bay        498\n",
        "Philadelphia     498\n",
        "Baltimore        496\n",
        "Denver           496\n",
        "Minnesota        493\n",
        "Indianapolis     493\n",
        "N.Y. Giants      492\n",
        "Chicago          492\n",
        "Buffalo          492\n",
        "Washington       489\n",
        "N.Y. Jets        489\n",
        "Miami            489\n",
        "Oakland          488\n",
        "Tennessee        487\n",
        "Atlanta          487\n",
        "St. Louis        485\n",
        "Kansas City      484\n",
        "New Orleans      484\n",
        "San Diego        482\n",
        "Seattle          482\n",
        "Tampa Bay        481\n",
        "Arizona          478\n",
        "Detroit          477\n",
        "Cincinnati       475\n",
        "Carolina         324\n",
        "Jacksonville     323\n",
        "Cleveland        240\n",
        "Houston          180"
       ]
      }
     ],
     "prompt_number": 41
    },
    {
     "cell_type": "code",
     "collapsed": false,
     "input": [
      "#chain value_counts together with head(10) to give you the top 10 teams in terms of games\n",
      "pd.value_counts(data.team).head(10)"
     ],
     "language": "python",
     "metadata": {},
     "outputs": [
      {
       "metadata": {},
       "output_type": "pyout",
       "prompt_number": 45,
       "text": [
        "Pittsburgh       507\n",
        "San Francisco    502\n",
        "New England      501\n",
        "Dallas           499\n",
        "Green Bay        498\n",
        "Philadelphia     498\n",
        "Baltimore        496\n",
        "Denver           496\n",
        "Minnesota        493\n",
        "Indianapolis     493"
       ]
      }
     ],
     "prompt_number": 45
    }
   ],
   "metadata": {}
  }
 ]
}